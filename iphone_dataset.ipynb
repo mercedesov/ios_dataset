{
 "cells": [
  {
   "cell_type": "code",
   "execution_count": 3,
   "id": "eccf1b95-8b2b-4822-a257-00d191200dac",
   "metadata": {},
   "outputs": [
    {
     "name": "stdout",
     "output_type": "stream",
     "text": [
      "   Year  No_of_iPhone_Users  No_of_iPhone_Users_USA  \\\n",
      "0  2023          1460000000               153000000   \n",
      "1  2022          1360000000               149000000   \n",
      "2  2021          1230000000               141000000   \n",
      "3  2020          1000000000               138000000   \n",
      "4  2019           948000000               131000000   \n",
      "\n",
      "   Percentage_of_iPhone_Users  No_of_iPhone_Sold  No_of_iPhone_Sold_USA  \\\n",
      "0                       58.33          234600000                    NaN   \n",
      "1                       48.70          226400000            124700000.0   \n",
      "2                       46.90          235700000            116300000.0   \n",
      "3                       45.30          206100000            113500000.0   \n",
      "4                       45.20          191000000            105200000.0   \n",
      "\n",
      "   iOS_Market_Share  Android_Market_Share  \n",
      "0             58.10                 41.46  \n",
      "1             56.74                 42.94  \n",
      "2             58.58                 41.11  \n",
      "3             59.54                 40.20  \n",
      "4             55.23                 44.51  \n",
      "<class 'pandas.core.frame.DataFrame'>\n",
      "RangeIndex: 13 entries, 0 to 12\n",
      "Data columns (total 8 columns):\n",
      " #   Column                      Non-Null Count  Dtype  \n",
      "---  ------                      --------------  -----  \n",
      " 0   Year                        13 non-null     int64  \n",
      " 1   No_of_iPhone_Users          13 non-null     int64  \n",
      " 2   No_of_iPhone_Users_USA      13 non-null     int64  \n",
      " 3   Percentage_of_iPhone_Users  10 non-null     float64\n",
      " 4   No_of_iPhone_Sold           13 non-null     int64  \n",
      " 5   No_of_iPhone_Sold_USA       11 non-null     float64\n",
      " 6   iOS_Market_Share            11 non-null     float64\n",
      " 7   Android_Market_Share        11 non-null     float64\n",
      "dtypes: float64(4), int64(4)\n",
      "memory usage: 960.0 bytes\n",
      "None\n",
      "             Year  No_of_iPhone_Users  No_of_iPhone_Users_USA  \\\n",
      "count    13.00000        1.300000e+01            1.300000e+01   \n",
      "mean   2017.00000        7.746923e+08            1.100000e+08   \n",
      "std       3.89444        4.310012e+08            3.705401e+07   \n",
      "min    2011.00000        1.150000e+08            4.000000e+07   \n",
      "25%    2014.00000        4.420000e+08            8.800000e+07   \n",
      "50%    2017.00000        8.140000e+08            1.250000e+08   \n",
      "75%    2020.00000        1.000000e+09            1.380000e+08   \n",
      "max    2023.00000        1.460000e+09            1.530000e+08   \n",
      "\n",
      "       Percentage_of_iPhone_Users  No_of_iPhone_Sold  No_of_iPhone_Sold_USA  \\\n",
      "count                    10.00000       1.300000e+01           1.100000e+01   \n",
      "mean                     46.28300       1.954154e+08           9.145727e+07   \n",
      "std                       4.61565       4.313867e+07           2.514572e+07   \n",
      "min                      42.30000       9.310000e+07           4.453000e+07   \n",
      "25%                      43.67500       1.910000e+08           7.740000e+07   \n",
      "50%                      45.15000       2.088000e+08           9.720000e+07   \n",
      "75%                      46.50000       2.264000e+08           1.093500e+08   \n",
      "max                      58.33000       2.357000e+08           1.247000e+08   \n",
      "\n",
      "       iOS_Market_Share  Android_Market_Share  \n",
      "count         11.000000             11.000000  \n",
      "mean          55.093636             43.057273  \n",
      "std            2.827707              2.340351  \n",
      "min           50.850000             39.250000  \n",
      "25%           52.990000             41.285000  \n",
      "50%           54.820000             42.940000  \n",
      "75%           57.420000             44.965000  \n",
      "max           59.540000             46.420000  \n"
     ]
    }
   ],
   "source": [
    "import pandas as pd\n",
    "\n",
    "file_path = \"~/Downloads/Iphone_Dataset.csv\"\n",
    "df = pd.read_csv(file_path)\n",
    "\n",
    "print(df.head())\n",
    "print(df.info())\n",
    "print(df.describe())"
   ]
  },
  {
   "cell_type": "code",
   "execution_count": 4,
   "id": "12d80582-f87a-4b8b-b892-4b5db25227c7",
   "metadata": {},
   "outputs": [
    {
     "name": "stdout",
     "output_type": "stream",
     "text": [
      "Year                          0\n",
      "No_of_iPhone_Users            0\n",
      "No_of_iPhone_Users_USA        0\n",
      "Percentage_of_iPhone_Users    3\n",
      "No_of_iPhone_Sold             0\n",
      "No_of_iPhone_Sold_USA         2\n",
      "iOS_Market_Share              2\n",
      "Android_Market_Share          2\n",
      "dtype: int64\n"
     ]
    }
   ],
   "source": [
    "print(df.isna().sum())"
   ]
  },
  {
   "cell_type": "code",
   "execution_count": 6,
   "id": "b3384a46-0729-4eb5-89d3-3b83ed6809ac",
   "metadata": {},
   "outputs": [
    {
     "name": "stdout",
     "output_type": "stream",
     "text": [
      "   Year  No_of_iPhone_Users  No_of_iPhone_Users_USA  \\\n",
      "0  2023            1.654962                1.207853   \n",
      "1  2022            1.413471                1.095495   \n",
      "2  2021            1.099531                0.870778   \n",
      "3  2020            0.544100                0.786509   \n",
      "4  2019            0.418524                0.589882   \n",
      "\n",
      "   Percentage_of_iPhone_Users  No_of_iPhone_Sold  No_of_iPhone_Sold_USA  \\\n",
      "0                    3.136870           0.945431               0.000000   \n",
      "1                    0.629353           0.747585               1.507316   \n",
      "2                    0.160658           0.971972               1.126437   \n",
      "3                   -0.255959           0.257794               0.999477   \n",
      "4                   -0.281998          -0.106533               0.623133   \n",
      "\n",
      "   iOS_Market_Share  Android_Market_Share  \n",
      "0          1.212213             -0.778162  \n",
      "1          0.663839             -0.057133  \n",
      "2          1.405756             -0.948675  \n",
      "3          1.792843             -1.392010  \n",
      "4          0.054984              0.707742  \n"
     ]
    }
   ],
   "source": [
    "from sklearn.preprocessing import StandardScaler, MinMaxScaler\n",
    "\n",
    "features_to_scale = ['No_of_iPhone_Users', 'No_of_iPhone_Users_USA', 'Percentage_of_iPhone_Users',\n",
    "                     'No_of_iPhone_Sold', 'No_of_iPhone_Sold_USA', 'iOS_Market_Share', 'Android_Market_Share']\n",
    "\n",
    "scaler = StandardScaler()\n",
    "df[features_to_scale] = scaler.fit_transform(df[features_to_scale])\n",
    "\n",
    "print(df.head())"
   ]
  },
  {
   "cell_type": "code",
   "execution_count": 8,
   "id": "afac2db9-1a9f-4e18-8d0c-8182cbdff9ca",
   "metadata": {},
   "outputs": [],
   "source": [
    "X = df.drop(columns=['iOS_Market_Share'])\n",
    "y = df['iOS_Market_Share']"
   ]
  },
  {
   "cell_type": "code",
   "execution_count": 10,
   "id": "913c4871-ee79-4a77-b7dd-7f11cc8e5c56",
   "metadata": {},
   "outputs": [],
   "source": [
    "from sklearn.model_selection import train_test_split\n",
    "\n",
    "X_train, X_test, y_train, y_test = train_test_split(X, y, test_size=0.2, random_state=42)"
   ]
  },
  {
   "cell_type": "code",
   "execution_count": 12,
   "id": "190ec59c-d6c2-4773-b544-1e07e233f307",
   "metadata": {},
   "outputs": [
    {
     "data": {
      "text/html": [
       "<pre style=\"white-space:pre;overflow-x:auto;line-height:normal;font-family:Menlo,'DejaVu Sans Mono',consolas,'Courier New',monospace\"><span style=\"font-weight: bold\">Model: \"sequential_1\"</span>\n",
       "</pre>\n"
      ],
      "text/plain": [
       "\u001b[1mModel: \"sequential_1\"\u001b[0m\n"
      ]
     },
     "metadata": {},
     "output_type": "display_data"
    },
    {
     "data": {
      "text/html": [
       "<pre style=\"white-space:pre;overflow-x:auto;line-height:normal;font-family:Menlo,'DejaVu Sans Mono',consolas,'Courier New',monospace\">┏━━━━━━━━━━━━━━━━━━━━━━━━━━━━━━━━━┳━━━━━━━━━━━━━━━━━━━━━━━━┳━━━━━━━━━━━━━━━┓\n",
       "┃<span style=\"font-weight: bold\"> Layer (type)                    </span>┃<span style=\"font-weight: bold\"> Output Shape           </span>┃<span style=\"font-weight: bold\">       Param # </span>┃\n",
       "┡━━━━━━━━━━━━━━━━━━━━━━━━━━━━━━━━━╇━━━━━━━━━━━━━━━━━━━━━━━━╇━━━━━━━━━━━━━━━┩\n",
       "│ dense_3 (<span style=\"color: #0087ff; text-decoration-color: #0087ff\">Dense</span>)                 │ (<span style=\"color: #00d7ff; text-decoration-color: #00d7ff\">None</span>, <span style=\"color: #00af00; text-decoration-color: #00af00\">64</span>)             │           <span style=\"color: #00af00; text-decoration-color: #00af00\">512</span> │\n",
       "├─────────────────────────────────┼────────────────────────┼───────────────┤\n",
       "│ dense_4 (<span style=\"color: #0087ff; text-decoration-color: #0087ff\">Dense</span>)                 │ (<span style=\"color: #00d7ff; text-decoration-color: #00d7ff\">None</span>, <span style=\"color: #00af00; text-decoration-color: #00af00\">32</span>)             │         <span style=\"color: #00af00; text-decoration-color: #00af00\">2,080</span> │\n",
       "├─────────────────────────────────┼────────────────────────┼───────────────┤\n",
       "│ dense_5 (<span style=\"color: #0087ff; text-decoration-color: #0087ff\">Dense</span>)                 │ (<span style=\"color: #00d7ff; text-decoration-color: #00d7ff\">None</span>, <span style=\"color: #00af00; text-decoration-color: #00af00\">1</span>)              │            <span style=\"color: #00af00; text-decoration-color: #00af00\">33</span> │\n",
       "└─────────────────────────────────┴────────────────────────┴───────────────┘\n",
       "</pre>\n"
      ],
      "text/plain": [
       "┏━━━━━━━━━━━━━━━━━━━━━━━━━━━━━━━━━┳━━━━━━━━━━━━━━━━━━━━━━━━┳━━━━━━━━━━━━━━━┓\n",
       "┃\u001b[1m \u001b[0m\u001b[1mLayer (type)                   \u001b[0m\u001b[1m \u001b[0m┃\u001b[1m \u001b[0m\u001b[1mOutput Shape          \u001b[0m\u001b[1m \u001b[0m┃\u001b[1m \u001b[0m\u001b[1m      Param #\u001b[0m\u001b[1m \u001b[0m┃\n",
       "┡━━━━━━━━━━━━━━━━━━━━━━━━━━━━━━━━━╇━━━━━━━━━━━━━━━━━━━━━━━━╇━━━━━━━━━━━━━━━┩\n",
       "│ dense_3 (\u001b[38;5;33mDense\u001b[0m)                 │ (\u001b[38;5;45mNone\u001b[0m, \u001b[38;5;34m64\u001b[0m)             │           \u001b[38;5;34m512\u001b[0m │\n",
       "├─────────────────────────────────┼────────────────────────┼───────────────┤\n",
       "│ dense_4 (\u001b[38;5;33mDense\u001b[0m)                 │ (\u001b[38;5;45mNone\u001b[0m, \u001b[38;5;34m32\u001b[0m)             │         \u001b[38;5;34m2,080\u001b[0m │\n",
       "├─────────────────────────────────┼────────────────────────┼───────────────┤\n",
       "│ dense_5 (\u001b[38;5;33mDense\u001b[0m)                 │ (\u001b[38;5;45mNone\u001b[0m, \u001b[38;5;34m1\u001b[0m)              │            \u001b[38;5;34m33\u001b[0m │\n",
       "└─────────────────────────────────┴────────────────────────┴───────────────┘\n"
      ]
     },
     "metadata": {},
     "output_type": "display_data"
    },
    {
     "data": {
      "text/html": [
       "<pre style=\"white-space:pre;overflow-x:auto;line-height:normal;font-family:Menlo,'DejaVu Sans Mono',consolas,'Courier New',monospace\"><span style=\"font-weight: bold\"> Total params: </span><span style=\"color: #00af00; text-decoration-color: #00af00\">2,625</span> (10.25 KB)\n",
       "</pre>\n"
      ],
      "text/plain": [
       "\u001b[1m Total params: \u001b[0m\u001b[38;5;34m2,625\u001b[0m (10.25 KB)\n"
      ]
     },
     "metadata": {},
     "output_type": "display_data"
    },
    {
     "data": {
      "text/html": [
       "<pre style=\"white-space:pre;overflow-x:auto;line-height:normal;font-family:Menlo,'DejaVu Sans Mono',consolas,'Courier New',monospace\"><span style=\"font-weight: bold\"> Trainable params: </span><span style=\"color: #00af00; text-decoration-color: #00af00\">2,625</span> (10.25 KB)\n",
       "</pre>\n"
      ],
      "text/plain": [
       "\u001b[1m Trainable params: \u001b[0m\u001b[38;5;34m2,625\u001b[0m (10.25 KB)\n"
      ]
     },
     "metadata": {},
     "output_type": "display_data"
    },
    {
     "data": {
      "text/html": [
       "<pre style=\"white-space:pre;overflow-x:auto;line-height:normal;font-family:Menlo,'DejaVu Sans Mono',consolas,'Courier New',monospace\"><span style=\"font-weight: bold\"> Non-trainable params: </span><span style=\"color: #00af00; text-decoration-color: #00af00\">0</span> (0.00 B)\n",
       "</pre>\n"
      ],
      "text/plain": [
       "\u001b[1m Non-trainable params: \u001b[0m\u001b[38;5;34m0\u001b[0m (0.00 B)\n"
      ]
     },
     "metadata": {},
     "output_type": "display_data"
    }
   ],
   "source": [
    "import tensorflow as tf\n",
    "from tensorflow.keras.models import Sequential\n",
    "from tensorflow.keras.layers import Dense, Input\n",
    "\n",
    "model = Sequential()\n",
    "model.add(Input(shape=(X_train.shape[1],)))  # Input layer with the same shape\n",
    "model.add(Dense(64, activation='relu'))\n",
    "model.add(Dense(32, activation='relu'))\n",
    "model.add(Dense(1))  # Output layer for regression\n",
    "\n",
    "model.compile(optimizer='adam', loss='mean_squared_error', metrics=['mae'])\n",
    "\n",
    "model.summary()"
   ]
  },
  {
   "cell_type": "code",
   "execution_count": 13,
   "id": "ea5f17e3-d564-4300-8f70-5f35582e77f1",
   "metadata": {
    "scrolled": true
   },
   "outputs": [
    {
     "name": "stdout",
     "output_type": "stream",
     "text": [
      "Epoch 1/50\n",
      "\u001b[1m1/1\u001b[0m \u001b[32m━━━━━━━━━━━━━━━━━━━━\u001b[0m\u001b[37m\u001b[0m \u001b[1m0s\u001b[0m 368ms/step - loss: 158973.3281 - mae: 398.7139 - val_loss: 127925.2266 - val_mae: 357.6652\n",
      "Epoch 2/50\n",
      "\u001b[1m1/1\u001b[0m \u001b[32m━━━━━━━━━━━━━━━━━━━━\u001b[0m\u001b[37m\u001b[0m \u001b[1m0s\u001b[0m 13ms/step - loss: 128329.8750 - mae: 358.2309 - val_loss: 101168.4688 - val_mae: 318.0685\n",
      "Epoch 3/50\n",
      "\u001b[1m1/1\u001b[0m \u001b[32m━━━━━━━━━━━━━━━━━━━━\u001b[0m\u001b[37m\u001b[0m \u001b[1m0s\u001b[0m 13ms/step - loss: 101549.1406 - mae: 318.6670 - val_loss: 78146.1250 - val_mae: 279.5443\n",
      "Epoch 4/50\n",
      "\u001b[1m1/1\u001b[0m \u001b[32m━━━━━━━━━━━━━━━━━━━━\u001b[0m\u001b[37m\u001b[0m \u001b[1m0s\u001b[0m 14ms/step - loss: 78473.1172 - mae: 280.1295 - val_loss: 59760.9219 - val_mae: 244.4582\n",
      "Epoch 5/50\n",
      "\u001b[1m1/1\u001b[0m \u001b[32m━━━━━━━━━━━━━━━━━━━━\u001b[0m\u001b[37m\u001b[0m \u001b[1m0s\u001b[0m 14ms/step - loss: 60057.0469 - mae: 245.0642 - val_loss: 44091.1094 - val_mae: 209.9760\n",
      "Epoch 6/50\n",
      "\u001b[1m1/1\u001b[0m \u001b[32m━━━━━━━━━━━━━━━━━━━━\u001b[0m\u001b[37m\u001b[0m \u001b[1m0s\u001b[0m 13ms/step - loss: 44354.0000 - mae: 210.6025 - val_loss: 31071.6465 - val_mae: 176.2681\n",
      "Epoch 7/50\n",
      "\u001b[1m1/1\u001b[0m \u001b[32m━━━━━━━━━━━━━━━━━━━━\u001b[0m\u001b[37m\u001b[0m \u001b[1m0s\u001b[0m 14ms/step - loss: 31299.3828 - mae: 176.9147 - val_loss: 21110.5117 - val_mae: 145.2902\n",
      "Epoch 8/50\n",
      "\u001b[1m1/1\u001b[0m \u001b[32m━━━━━━━━━━━━━━━━━━━━\u001b[0m\u001b[37m\u001b[0m \u001b[1m0s\u001b[0m 14ms/step - loss: 21311.8789 - mae: 145.9839 - val_loss: 13429.1074 - val_mae: 115.8783\n",
      "Epoch 9/50\n",
      "\u001b[1m1/1\u001b[0m \u001b[32m━━━━━━━━━━━━━━━━━━━━\u001b[0m\u001b[37m\u001b[0m \u001b[1m0s\u001b[0m 13ms/step - loss: 13593.7051 - mae: 116.5895 - val_loss: 7690.9268 - val_mae: 87.6902\n",
      "Epoch 10/50\n",
      "\u001b[1m1/1\u001b[0m \u001b[32m━━━━━━━━━━━━━━━━━━━━\u001b[0m\u001b[37m\u001b[0m \u001b[1m0s\u001b[0m 14ms/step - loss: 7818.3535 - mae: 88.4180 - val_loss: 3776.5703 - val_mae: 61.4425\n",
      "Epoch 11/50\n",
      "\u001b[1m1/1\u001b[0m \u001b[32m━━━━━━━━━━━━━━━━━━━━\u001b[0m\u001b[37m\u001b[0m \u001b[1m0s\u001b[0m 14ms/step - loss: 3866.4543 - mae: 62.1758 - val_loss: 1365.9490 - val_mae: 36.9395\n",
      "Epoch 12/50\n",
      "\u001b[1m1/1\u001b[0m \u001b[32m━━━━━━━━━━━━━━━━━━━━\u001b[0m\u001b[37m\u001b[0m \u001b[1m0s\u001b[0m 14ms/step - loss: 1420.9766 - mae: 37.6873 - val_loss: 202.8366 - val_mae: 14.1909\n",
      "Epoch 13/50\n",
      "\u001b[1m1/1\u001b[0m \u001b[32m━━━━━━━━━━━━━━━━━━━━\u001b[0m\u001b[37m\u001b[0m \u001b[1m0s\u001b[0m 14ms/step - loss: 224.2328 - mae: 14.9521 - val_loss: 41.3823 - val_mae: 6.3015\n",
      "Epoch 14/50\n",
      "\u001b[1m1/1\u001b[0m \u001b[32m━━━━━━━━━━━━━━━━━━━━\u001b[0m\u001b[37m\u001b[0m \u001b[1m0s\u001b[0m 14ms/step - loss: 31.1488 - mae: 5.5055 - val_loss: 492.6318 - val_mae: 22.1570\n",
      "Epoch 15/50\n",
      "\u001b[1m1/1\u001b[0m \u001b[32m━━━━━━━━━━━━━━━━━━━━\u001b[0m\u001b[37m\u001b[0m \u001b[1m0s\u001b[0m 14ms/step - loss: 456.7510 - mae: 21.3516 - val_loss: 1306.6224 - val_mae: 36.1234\n",
      "Epoch 16/50\n",
      "\u001b[1m1/1\u001b[0m \u001b[32m━━━━━━━━━━━━━━━━━━━━\u001b[0m\u001b[37m\u001b[0m \u001b[1m0s\u001b[0m 15ms/step - loss: 1247.6591 - mae: 35.3098 - val_loss: 2318.4775 - val_mae: 48.1325\n",
      "Epoch 17/50\n",
      "\u001b[1m1/1\u001b[0m \u001b[32m━━━━━━━━━━━━━━━━━━━━\u001b[0m\u001b[37m\u001b[0m \u001b[1m0s\u001b[0m 14ms/step - loss: 2239.2991 - mae: 47.3118 - val_loss: 3382.8276 - val_mae: 58.1470\n",
      "Epoch 18/50\n",
      "\u001b[1m1/1\u001b[0m \u001b[32m━━━━━━━━━━━━━━━━━━━━\u001b[0m\u001b[37m\u001b[0m \u001b[1m0s\u001b[0m 14ms/step - loss: 3286.5312 - mae: 57.3204 - val_loss: 4379.5664 - val_mae: 66.1649\n",
      "Epoch 19/50\n",
      "\u001b[1m1/1\u001b[0m \u001b[32m━━━━━━━━━━━━━━━━━━━━\u001b[0m\u001b[37m\u001b[0m \u001b[1m0s\u001b[0m 14ms/step - loss: 4269.4023 - mae: 65.3336 - val_loss: 5217.7148 - val_mae: 72.2215\n",
      "Epoch 20/50\n",
      "\u001b[1m1/1\u001b[0m \u001b[32m━━━━━━━━━━━━━━━━━━━━\u001b[0m\u001b[37m\u001b[0m \u001b[1m0s\u001b[0m 14ms/step - loss: 5096.9746 - mae: 71.3866 - val_loss: 5836.6440 - val_mae: 76.3863\n",
      "Epoch 21/50\n",
      "\u001b[1m1/1\u001b[0m \u001b[32m━━━━━━━━━━━━━━━━━━━━\u001b[0m\u001b[37m\u001b[0m \u001b[1m0s\u001b[0m 14ms/step - loss: 5708.5889 - mae: 75.5490 - val_loss: 6204.8550 - val_mae: 78.7596\n",
      "Epoch 22/50\n",
      "\u001b[1m1/1\u001b[0m \u001b[32m━━━━━━━━━━━━━━━━━━━━\u001b[0m\u001b[37m\u001b[0m \u001b[1m0s\u001b[0m 14ms/step - loss: 6072.6167 - mae: 77.9210 - val_loss: 6316.6709 - val_mae: 79.4662\n",
      "Epoch 23/50\n",
      "\u001b[1m1/1\u001b[0m \u001b[32m━━━━━━━━━━━━━━━━━━━━\u001b[0m\u001b[37m\u001b[0m \u001b[1m0s\u001b[0m 14ms/step - loss: 6183.1992 - mae: 78.6274 - val_loss: 6187.6318 - val_mae: 78.6502\n",
      "Epoch 24/50\n",
      "\u001b[1m1/1\u001b[0m \u001b[32m━━━━━━━━━━━━━━━━━━━━\u001b[0m\u001b[37m\u001b[0m \u001b[1m0s\u001b[0m 14ms/step - loss: 6055.6113 - mae: 77.8118 - val_loss: 5849.2324 - val_mae: 76.4686\n",
      "Epoch 25/50\n",
      "\u001b[1m1/1\u001b[0m \u001b[32m━━━━━━━━━━━━━━━━━━━━\u001b[0m\u001b[37m\u001b[0m \u001b[1m0s\u001b[0m 14ms/step - loss: 5721.0859 - mae: 75.6317 - val_loss: 5343.6011 - val_mae: 73.0878\n",
      "Epoch 26/50\n",
      "\u001b[1m1/1\u001b[0m \u001b[32m━━━━━━━━━━━━━━━━━━━━\u001b[0m\u001b[37m\u001b[0m \u001b[1m0s\u001b[0m 13ms/step - loss: 5221.4160 - mae: 72.2530 - val_loss: 4718.4829 - val_mae: 68.6783\n",
      "Epoch 27/50\n",
      "\u001b[1m1/1\u001b[0m \u001b[32m━━━━━━━━━━━━━━━━━━━━\u001b[0m\u001b[37m\u001b[0m \u001b[1m0s\u001b[0m 14ms/step - loss: 4604.0234 - mae: 67.8462 - val_loss: 4022.8823 - val_mae: 63.4123\n",
      "Epoch 28/50\n",
      "\u001b[1m1/1\u001b[0m \u001b[32m━━━━━━━━━━━━━━━━━━━━\u001b[0m\u001b[37m\u001b[0m \u001b[1m0s\u001b[0m 13ms/step - loss: 3917.5879 - mae: 62.5833 - val_loss: 3303.4497 - val_mae: 57.4604\n",
      "Epoch 29/50\n",
      "\u001b[1m1/1\u001b[0m \u001b[32m━━━━━━━━━━━━━━━━━━━━\u001b[0m\u001b[37m\u001b[0m \u001b[1m0s\u001b[0m 15ms/step - loss: 3208.4390 - mae: 56.6351 - val_loss: 2601.6885 - val_mae: 50.9897\n",
      "Epoch 30/50\n",
      "\u001b[1m1/1\u001b[0m \u001b[32m━━━━━━━━━━━━━━━━━━━━\u001b[0m\u001b[37m\u001b[0m \u001b[1m0s\u001b[0m 14ms/step - loss: 2517.7546 - mae: 50.1683 - val_loss: 1951.9662 - val_mae: 44.1615\n",
      "Epoch 31/50\n",
      "\u001b[1m1/1\u001b[0m \u001b[32m━━━━━━━━━━━━━━━━━━━━\u001b[0m\u001b[37m\u001b[0m \u001b[1m0s\u001b[0m 14ms/step - loss: 1879.6160 - mae: 43.3443 - val_loss: 1380.3788 - val_mae: 37.1303\n",
      "Epoch 32/50\n",
      "\u001b[1m1/1\u001b[0m \u001b[32m━━━━━━━━━━━━━━━━━━━━\u001b[0m\u001b[37m\u001b[0m \u001b[1m0s\u001b[0m 14ms/step - loss: 1319.8317 - mae: 36.3174 - val_loss: 904.2073 - val_mae: 30.0416\n",
      "Epoch 33/50\n",
      "\u001b[1m1/1\u001b[0m \u001b[32m━━━━━━━━━━━━━━━━━━━━\u001b[0m\u001b[37m\u001b[0m \u001b[1m0s\u001b[0m 14ms/step - loss: 855.4394 - mae: 29.2331 - val_loss: 532.1265 - val_mae: 23.0311\n",
      "Epoch 34/50\n",
      "\u001b[1m1/1\u001b[0m \u001b[32m━━━━━━━━━━━━━━━━━━━━\u001b[0m\u001b[37m\u001b[0m \u001b[1m0s\u001b[0m 14ms/step - loss: 494.8871 - mae: 22.2268 - val_loss: 264.8609 - val_mae: 16.2227\n",
      "Epoch 35/50\n",
      "\u001b[1m1/1\u001b[0m \u001b[32m━━━━━━━━━━━━━━━━━━━━\u001b[0m\u001b[37m\u001b[0m \u001b[1m0s\u001b[0m 13ms/step - loss: 238.7054 - mae: 15.4226 - val_loss: 96.3140 - val_mae: 9.7282\n",
      "Epoch 36/50\n",
      "\u001b[1m1/1\u001b[0m \u001b[32m━━━━━━━━━━━━━━━━━━━━\u001b[0m\u001b[37m\u001b[0m \u001b[1m0s\u001b[0m 13ms/step - loss: 80.6240 - mae: 8.9322 - val_loss: 14.9582 - val_mae: 3.6458\n",
      "Epoch 37/50\n",
      "\u001b[1m1/1\u001b[0m \u001b[32m━━━━━━━━━━━━━━━━━━━━\u001b[0m\u001b[37m\u001b[0m \u001b[1m0s\u001b[0m 14ms/step - loss: 8.9746 - mae: 2.8536 - val_loss: 5.4244 - val_mae: 1.9409\n",
      "Epoch 38/50\n",
      "\u001b[1m1/1\u001b[0m \u001b[32m━━━━━━━━━━━━━━━━━━━━\u001b[0m\u001b[37m\u001b[0m \u001b[1m0s\u001b[0m 14ms/step - loss: 8.2751 - mae: 2.7296 - val_loss: 50.1377 - val_mae: 6.9634\n",
      "Epoch 39/50\n",
      "\u001b[1m1/1\u001b[0m \u001b[32m━━━━━━━━━━━━━━━━━━━━\u001b[0m\u001b[37m\u001b[0m \u001b[1m0s\u001b[0m 14ms/step - loss: 60.8629 - mae: 7.7488 - val_loss: 130.8829 - val_mae: 11.3684\n",
      "Epoch 40/50\n",
      "\u001b[1m1/1\u001b[0m \u001b[32m━━━━━━━━━━━━━━━━━━━━\u001b[0m\u001b[37m\u001b[0m \u001b[1m0s\u001b[0m 14ms/step - loss: 148.4624 - mae: 12.1511 - val_loss: 230.2137 - val_mae: 15.1188\n",
      "Epoch 41/50\n",
      "\u001b[1m1/1\u001b[0m \u001b[32m━━━━━━━━━━━━━━━━━━━━\u001b[0m\u001b[37m\u001b[0m \u001b[1m0s\u001b[0m 14ms/step - loss: 253.5853 - mae: 15.8990 - val_loss: 332.5888 - val_mae: 18.1922\n",
      "Epoch 42/50\n",
      "\u001b[1m1/1\u001b[0m \u001b[32m━━━━━━━━━━━━━━━━━━━━\u001b[0m\u001b[37m\u001b[0m \u001b[1m0s\u001b[0m 14ms/step - loss: 360.6795 - mae: 18.9704 - val_loss: 425.2395 - val_mae: 20.5819\n",
      "Epoch 43/50\n",
      "\u001b[1m1/1\u001b[0m \u001b[32m━━━━━━━━━━━━━━━━━━━━\u001b[0m\u001b[37m\u001b[0m \u001b[1m0s\u001b[0m 14ms/step - loss: 456.9789 - mae: 21.3583 - val_loss: 498.6777 - val_mae: 22.2947\n",
      "Epoch 44/50\n",
      "\u001b[1m1/1\u001b[0m \u001b[32m━━━━━━━━━━━━━━━━━━━━\u001b[0m\u001b[37m\u001b[0m \u001b[1m0s\u001b[0m 14ms/step - loss: 533.0177 - mae: 23.0699 - val_loss: 546.8934 - val_mae: 23.3511\n",
      "Epoch 45/50\n",
      "\u001b[1m1/1\u001b[0m \u001b[32m━━━━━━━━━━━━━━━━━━━━\u001b[0m\u001b[37m\u001b[0m \u001b[1m0s\u001b[0m 15ms/step - loss: 582.8269 - mae: 24.1253 - val_loss: 567.2550 - val_mae: 23.7831\n",
      "Epoch 46/50\n",
      "\u001b[1m1/1\u001b[0m \u001b[32m━━━━━━━━━━━━━━━━━━━━\u001b[0m\u001b[37m\u001b[0m \u001b[1m0s\u001b[0m 14ms/step - loss: 603.8309 - mae: 24.5568 - val_loss: 560.1542 - val_mae: 23.6333\n",
      "Epoch 47/50\n",
      "\u001b[1m1/1\u001b[0m \u001b[32m━━━━━━━━━━━━━━━━━━━━\u001b[0m\u001b[37m\u001b[0m \u001b[1m0s\u001b[0m 14ms/step - loss: 596.4855 - mae: 24.4068 - val_loss: 528.4712 - val_mae: 22.9532\n",
      "Epoch 48/50\n",
      "\u001b[1m1/1\u001b[0m \u001b[32m━━━━━━━━━━━━━━━━━━━━\u001b[0m\u001b[37m\u001b[0m \u001b[1m0s\u001b[0m 14ms/step - loss: 563.7588 - mae: 23.7268 - val_loss: 476.9348 - val_mae: 21.8017\n",
      "Epoch 49/50\n",
      "\u001b[1m1/1\u001b[0m \u001b[32m━━━━━━━━━━━━━━━━━━━━\u001b[0m\u001b[37m\u001b[0m \u001b[1m0s\u001b[0m 14ms/step - loss: 510.4546 - mae: 22.5756 - val_loss: 411.3988 - val_mae: 20.2429\n",
      "Epoch 50/50\n",
      "\u001b[1m1/1\u001b[0m \u001b[32m━━━━━━━━━━━━━━━━━━━━\u001b[0m\u001b[37m\u001b[0m \u001b[1m0s\u001b[0m 14ms/step - loss: 442.5303 - mae: 21.0174 - val_loss: 338.1685 - val_mae: 18.3451\n"
     ]
    }
   ],
   "source": [
    "history = model.fit(X_train, y_train, epochs=50, validation_split=0.2, verbose=1)"
   ]
  },
  {
   "cell_type": "code",
   "execution_count": 14,
   "id": "b89bc27d-d7fa-4089-8a60-80a154b2ec1f",
   "metadata": {},
   "outputs": [
    {
     "name": "stdout",
     "output_type": "stream",
     "text": [
      "\u001b[1m1/1\u001b[0m \u001b[32m━━━━━━━━━━━━━━━━━━━━\u001b[0m\u001b[37m\u001b[0m \u001b[1m0s\u001b[0m 13ms/step - loss: 350.0441 - mae: 18.6873\n",
      "Test Mean Absolute Error: 18.687347412109375\n"
     ]
    }
   ],
   "source": [
    "test_loss, test_mae = model.evaluate(X_test, y_test)\n",
    "print(\"Test Mean Absolute Error:\", test_mae)"
   ]
  },
  {
   "cell_type": "code",
   "execution_count": 15,
   "id": "b86370fb-c48e-4eae-a888-600086252ff5",
   "metadata": {},
   "outputs": [
    {
     "data": {
      "image/png": "[encoded data removed]",
      "text/plain": [
       "<Figure size 1000x600 with 1 Axes>"
      ]
     },
     "metadata": {},
     "output_type": "display_data"
    }
   ],
   "source": [
    "import matplotlib.pyplot as plt\n",
    "\n",
    "plt.figure(figsize=(10, 6))\n",
    "plt.plot(history.history['loss'], label='Train Loss')\n",
    "plt.plot(history.history['val_loss'], label='Validation Loss')\n",
    "plt.title('Model Loss')\n",
    "plt.xlabel('Epoch')\n",
    "plt.ylabel('Loss')\n",
    "plt.legend(loc='upper right')\n",
    "plt.show()"
   ]
  },
  {
   "cell_type": "code",
   "execution_count": 17,
   "id": "50152b46-0600-4974-98ba-ebd2f253aa19",
   "metadata": {},
   "outputs": [
    {
     "name": "stdout",
     "output_type": "stream",
     "text": [
      "\u001b[1m1/1\u001b[0m \u001b[32m━━━━━━━━━━━━━━━━━━━━\u001b[0m\u001b[37m\u001b[0m \u001b[1m0s\u001b[0m 14ms/step\n",
      "Predicted: 18.534160614013672, Actual: 0.0\n",
      "Predicted: 18.74349594116211, Actual: -1.126437715072033\n",
      "Predicted: 18.870159149169922, Actual: 1.2122126663661603\n"
     ]
    }
   ],
   "source": [
    "y_pred = model.predict(X_test)\n",
    "\n",
    "for i in range(min(len(y_pred), len(y_test))):  \n",
    "    print(f\"Predicted: {y_pred[i][0]}, Actual: {y_test.iloc[i]}\")"
   ]
  },
  {
   "cell_type": "code",
   "execution_count": null,
   "id": "e9d92f2b-a14e-4c86-aab2-aa5f1e704b96",
   "metadata": {},
   "outputs": [],
   "source": []
  }
 ],
 "metadata": {
  "kernelspec": {
   "display_name": "Python 3 (ipykernel)",
   "language": "python",
   "name": "python3"
  },
  "language_info": {
   "codemirror_mode": {
    "name": "ipython",
    "version": 3
   },
   "file_extension": ".py",
   "mimetype": "text/x-python",
   "name": "python",
   "nbconvert_exporter": "python",
   "pygments_lexer": "ipython3",
   "version": "3.9.6"
  }
 },
 "nbformat": 4,
 "nbformat_minor": 5
}
